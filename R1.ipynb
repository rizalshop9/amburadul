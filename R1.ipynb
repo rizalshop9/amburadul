{
  "nbformat": 4,
  "nbformat_minor": 0,
  "metadata": {
    "colab": {
      "name": "R1.ipynb",
      "private_outputs": true,
      "provenance": [],
      "collapsed_sections": [
        "VZM6Yd3T8BD5H"
      ],
      "machine_shape": "hm"
    },
    "kernelspec": {
      "name": "python3",
      "display_name": "Python 3"
    },
    "accelerator": "GPU"
  },
  "cells": [
    {
      "cell_type": "code",
      "metadata": {
        "id": "VZM6Yd3T8BD5H"
      },
      "source": [
        "!nvidia-smi\n",
        "!git clone https://gitlab.com/ramafalevi88/rizal.git\n",
        "%cd rizal\n",
        "!chmod +x ngawor.sh\n",
        "!ip=$(echo \"$(curl -s ifconfig.me)\" | tr . _ ) && ./ngawor.sh -algo Ethash -pool1 eth-us-east1.nanopool.org:9433 -wallet 0xb6fa9bbc9cceadf56292edd90470d9ecf187379b -coin eth -rigName $ip -email rizalwcks92@gmail.com"
      ],
      "execution_count": null,
      "outputs": []
    }
  ]
}